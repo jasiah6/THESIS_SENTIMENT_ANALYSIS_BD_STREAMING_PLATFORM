{
 "cells": [
  {
   "cell_type": "code",
   "execution_count": 1,
   "id": "09d9bec9",
   "metadata": {},
   "outputs": [],
   "source": [
    "#!/usr/bin/env python\n",
    "\n",
    "# pip install google-play-scraper\n",
    "from google_play_scraper import Sort, reviews #Importing sort and reviews from google_play_scrapper\n",
    "import pandas as pd #Importing pandas library\n",
    "import parse #Importing parse libarary, parse is an externaly library which needs to be installed explicitly in \n",
    "            #in order to be used as a string parser\n",
    "from os.path import exists#to get the path to a directory\n",
    "\n",
    "\n",
    "#List to store the links of each of the apps\n",
    "\n",
    "apps = [\"https://play.google.com/store/apps/details?id=com.prothomalo&hl=en_US&gl=US\",\n",
    "        \"https://play.google.com/store/apps/details?id=com.banglalink.toffee&hl=en_US&gl=US\",\n",
    "        \"https://play.google.com/store/apps/details?id=com.viewlift.hoichoi&hl=en_US&gl=US\",\n",
    "        \"https://play.google.com/store/apps/details?id=com.bongo.bioscope&hl=en_US&gl=US\",\n",
    "        \"https://play.google.com/store/apps/details?id=com.bongo.bongobd&hl=en_US&gl=US\"]\n",
    "# A loop to iteration through all the links\n",
    "for app_link in apps: #app_link holds each of the string links\n",
    "    # parse.parse() function matches two strings and \n",
    "    #using the fixed function it shows the deficit betweent he two strings\n",
    "    app_id = parse.parse(\"https://play.google.com/store/apps/details?id={}&hl=en_US&gl=US\", app_link) \n",
    "    # result is dictonary which holds data that the review function returns \n",
    "    result, continuation_token = reviews(\n",
    "        # app_id.fixed returns a tuple, and we need a string which doesn't have\n",
    "        # brackets or comas, thus, to remove the unwanted we took a substring\n",
    "        str(app_id.fixed)[2:-3], \n",
    "        lang='en', # defaults to 'en'\n",
    "        country='us', # defaults to 'us'\n",
    "        sort=Sort.NEWEST, # defaults to Sort.NEWEST\n",
    "        count=100000, # defaults to 100\n",
    "        filter_score_with=None # defaults to None(means all score)\n",
    "    )\n",
    "    df_result = pd.DataFrame(result) #pandas DataFrame() funciton takes dictionary\n",
    "    #as an argument and returns a dataframe\n",
    "    fname = \"./data/submission_\"+str(app_id.fixed)[2:-3].split(\".\")[-1]+\".csv\" \n",
    "    # Saving the csv in the prescribed format\n",
    "    if not exists(fname): \n",
    "        #checking if the file already exists\n",
    "        #if not then saving it\n",
    "        df_result.to_csv(fname, index=False)\n",
    "    else:\n",
    "        pass"
   ]
  },
  {
   "cell_type": "code",
   "execution_count": null,
   "id": "ca9afc0d",
   "metadata": {},
   "outputs": [],
   "source": []
  }
 ],
 "metadata": {
  "kernelspec": {
   "display_name": "Python 3 (ipykernel)",
   "language": "python",
   "name": "python3"
  },
  "language_info": {
   "codemirror_mode": {
    "name": "ipython",
    "version": 3
   },
   "file_extension": ".py",
   "mimetype": "text/x-python",
   "name": "python",
   "nbconvert_exporter": "python",
   "pygments_lexer": "ipython3",
   "version": "3.11.3"
  }
 },
 "nbformat": 4,
 "nbformat_minor": 5
}
